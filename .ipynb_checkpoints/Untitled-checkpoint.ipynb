{
 "cells": [
  {
   "cell_type": "code",
   "execution_count": 16,
   "id": "453f8d26",
   "metadata": {},
   "outputs": [
    {
     "name": "stdout",
     "output_type": "stream",
     "text": [
      "Defaulting to user installation because normal site-packages is not writeable\n",
      "Requirement already satisfied: pymysql in c:\\users\\autologon\\appdata\\roaming\\python\\python311\\site-packages (1.1.0)\n"
     ]
    }
   ],
   "source": [
    "# Instalando os Pacotes - Mysql\n",
    "!pip install pymysql"
   ]
  },
  {
   "cell_type": "code",
   "execution_count": 17,
   "id": "81d1019c",
   "metadata": {
    "scrolled": true
   },
   "outputs": [],
   "source": [
    "# importar o módulo pymysql e a bibliotexa pandas\n",
    "import pymysql\n",
    "import pandas as pd"
   ]
  },
  {
   "cell_type": "code",
   "execution_count": 18,
   "id": "d5b7ed93",
   "metadata": {},
   "outputs": [],
   "source": [
    "# converter do pymysql para o Mysql\n",
    "pymysql.install_as_MySQLdb()"
   ]
  },
  {
   "cell_type": "code",
   "execution_count": 19,
   "id": "73f42e72",
   "metadata": {},
   "outputs": [],
   "source": [
    "#import mysql.connector\n",
    "import MySQLdb"
   ]
  },
  {
   "cell_type": "code",
   "execution_count": 20,
   "id": "09ac1119",
   "metadata": {},
   "outputs": [],
   "source": [
    "# Configurações para MYSQL connection\n",
    "db = MySQLdb.connect(\n",
    "    host=\"localhost\",\n",
    "    user=\"root\",\n",
    "    password=\"unipe\",\n",
    "    database='hotel'\n",
    ")"
   ]
  },
  {
   "cell_type": "code",
   "execution_count": 21,
   "id": "d7819c36",
   "metadata": {},
   "outputs": [],
   "source": [
    "# Cricar um objeto cursor. Isso permitirá que você execute todas as consultas necessárias\n",
    "cur = db.cursor()"
   ]
  },
  {
   "cell_type": "code",
   "execution_count": 22,
   "id": "28b766ce",
   "metadata": {},
   "outputs": [
    {
     "data": {
      "text/plain": [
       "4"
      ]
     },
     "execution_count": 22,
     "metadata": {},
     "output_type": "execute_result"
    }
   ],
   "source": [
    "# Selecionar o que retornar todos os dados da tabela.\n",
    "cur.execute(\"SELECT * FROM Cliente\")"
   ]
  },
  {
   "cell_type": "code",
   "execution_count": 23,
   "id": "444ba2e9",
   "metadata": {},
   "outputs": [],
   "source": [
    "# Converter os dados para DATAFRAME\n",
    "tb_cliente_mysql = pd.DataFrame(cur.fetchall())"
   ]
  },
  {
   "cell_type": "code",
   "execution_count": 24,
   "id": "3ff327a5",
   "metadata": {},
   "outputs": [
    {
     "data": {
      "text/html": [
       "<div>\n",
       "<style scoped>\n",
       "    .dataframe tbody tr th:only-of-type {\n",
       "        vertical-align: middle;\n",
       "    }\n",
       "\n",
       "    .dataframe tbody tr th {\n",
       "        vertical-align: top;\n",
       "    }\n",
       "\n",
       "    .dataframe thead th {\n",
       "        text-align: right;\n",
       "    }\n",
       "</style>\n",
       "<table border=\"1\" class=\"dataframe\">\n",
       "  <thead>\n",
       "    <tr style=\"text-align: right;\">\n",
       "      <th></th>\n",
       "      <th>0</th>\n",
       "      <th>1</th>\n",
       "      <th>2</th>\n",
       "      <th>3</th>\n",
       "      <th>4</th>\n",
       "    </tr>\n",
       "  </thead>\n",
       "  <tbody>\n",
       "    <tr>\n",
       "      <th>0</th>\n",
       "      <td>131.537.214-24</td>\n",
       "      <td>Maria</td>\n",
       "      <td>F</td>\n",
       "      <td>(63) 99577-5078</td>\n",
       "      <td>30</td>\n",
       "    </tr>\n",
       "    <tr>\n",
       "      <th>1</th>\n",
       "      <td>278.089.756-21</td>\n",
       "      <td>João</td>\n",
       "      <td>M</td>\n",
       "      <td>(68) 98851-2344</td>\n",
       "      <td>24</td>\n",
       "    </tr>\n",
       "    <tr>\n",
       "      <th>2</th>\n",
       "      <td>822.253.401-70</td>\n",
       "      <td>Pedro</td>\n",
       "      <td>M</td>\n",
       "      <td>(71) 98254-7610</td>\n",
       "      <td>38</td>\n",
       "    </tr>\n",
       "    <tr>\n",
       "      <th>3</th>\n",
       "      <td>894.189.461-14</td>\n",
       "      <td>Ana</td>\n",
       "      <td>M</td>\n",
       "      <td>(67) 99693-3933</td>\n",
       "      <td>25</td>\n",
       "    </tr>\n",
       "  </tbody>\n",
       "</table>\n",
       "</div>"
      ],
      "text/plain": [
       "                0      1  2                3   4\n",
       "0  131.537.214-24  Maria  F  (63) 99577-5078  30\n",
       "1  278.089.756-21   João  M  (68) 98851-2344  24\n",
       "2  822.253.401-70  Pedro  M  (71) 98254-7610  38\n",
       "3  894.189.461-14    Ana  M  (67) 99693-3933  25"
      ]
     },
     "execution_count": 24,
     "metadata": {},
     "output_type": "execute_result"
    }
   ],
   "source": [
    "# Visualizar os dados do DATAFRAME\n",
    "tb_cliente_mysql.head()"
   ]
  },
  {
   "cell_type": "code",
   "execution_count": 25,
   "id": "0d9af1c6",
   "metadata": {},
   "outputs": [],
   "source": [
    "#Adicionar o nome para as colunas\n",
    "tb_cliente_mysql = tb_cliente_mysql.rename(columns={\n",
    "                                                    0: 'CPF',\n",
    "                                                    1: 'Nome',\n",
    "                                                    2: 'Gênero',\n",
    "                                                    3: 'Telefone',\n",
    "                                                    4: 'idade',\n",
    "                                                })"
   ]
  },
  {
   "cell_type": "code",
   "execution_count": 26,
   "id": "3e4eaa87",
   "metadata": {},
   "outputs": [
    {
     "data": {
      "text/html": [
       "<div>\n",
       "<style scoped>\n",
       "    .dataframe tbody tr th:only-of-type {\n",
       "        vertical-align: middle;\n",
       "    }\n",
       "\n",
       "    .dataframe tbody tr th {\n",
       "        vertical-align: top;\n",
       "    }\n",
       "\n",
       "    .dataframe thead th {\n",
       "        text-align: right;\n",
       "    }\n",
       "</style>\n",
       "<table border=\"1\" class=\"dataframe\">\n",
       "  <thead>\n",
       "    <tr style=\"text-align: right;\">\n",
       "      <th></th>\n",
       "      <th>CPF</th>\n",
       "      <th>Nome</th>\n",
       "      <th>Gênero</th>\n",
       "      <th>Telefone</th>\n",
       "      <th>idade</th>\n",
       "    </tr>\n",
       "  </thead>\n",
       "  <tbody>\n",
       "    <tr>\n",
       "      <th>0</th>\n",
       "      <td>131.537.214-24</td>\n",
       "      <td>Maria</td>\n",
       "      <td>F</td>\n",
       "      <td>(63) 99577-5078</td>\n",
       "      <td>30</td>\n",
       "    </tr>\n",
       "    <tr>\n",
       "      <th>1</th>\n",
       "      <td>278.089.756-21</td>\n",
       "      <td>João</td>\n",
       "      <td>M</td>\n",
       "      <td>(68) 98851-2344</td>\n",
       "      <td>24</td>\n",
       "    </tr>\n",
       "    <tr>\n",
       "      <th>2</th>\n",
       "      <td>822.253.401-70</td>\n",
       "      <td>Pedro</td>\n",
       "      <td>M</td>\n",
       "      <td>(71) 98254-7610</td>\n",
       "      <td>38</td>\n",
       "    </tr>\n",
       "    <tr>\n",
       "      <th>3</th>\n",
       "      <td>894.189.461-14</td>\n",
       "      <td>Ana</td>\n",
       "      <td>M</td>\n",
       "      <td>(67) 99693-3933</td>\n",
       "      <td>25</td>\n",
       "    </tr>\n",
       "  </tbody>\n",
       "</table>\n",
       "</div>"
      ],
      "text/plain": [
       "              CPF   Nome Gênero         Telefone  idade\n",
       "0  131.537.214-24  Maria      F  (63) 99577-5078     30\n",
       "1  278.089.756-21   João      M  (68) 98851-2344     24\n",
       "2  822.253.401-70  Pedro      M  (71) 98254-7610     38\n",
       "3  894.189.461-14    Ana      M  (67) 99693-3933     25"
      ]
     },
     "execution_count": 26,
     "metadata": {},
     "output_type": "execute_result"
    }
   ],
   "source": [
    "# Visualizar os dados com as colunas renomeadas\n",
    "tb_cliente_mysql.head()"
   ]
  },
  {
   "cell_type": "code",
   "execution_count": null,
   "id": "95fefacd",
   "metadata": {},
   "outputs": [],
   "source": []
  }
 ],
 "metadata": {
  "kernelspec": {
   "display_name": "Python 3 (ipykernel)",
   "language": "python",
   "name": "python3"
  },
  "language_info": {
   "codemirror_mode": {
    "name": "ipython",
    "version": 3
   },
   "file_extension": ".py",
   "mimetype": "text/x-python",
   "name": "python",
   "nbconvert_exporter": "python",
   "pygments_lexer": "ipython3",
   "version": "3.11.5"
  }
 },
 "nbformat": 4,
 "nbformat_minor": 5
}
